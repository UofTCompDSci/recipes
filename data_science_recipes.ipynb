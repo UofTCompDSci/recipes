{
 "cells": [
  {
   "cell_type": "markdown",
   "id": "35aa0e6a",
   "metadata": {},
   "source": [
    "# Data science recipes\n",
    "\n",
    "Data scientists all do the same thing: look for insights into data. In this course, you'll learn and practice a set of recipes, much like a basic cooking class does. The concepts are the same: prepare your ingredients (either data or food — and this step can be complicated for both kinds), then follow a set of steps that end up creating what you want.\n",
    "\n",
    "* For food recipes, this is a dish, or a set of dishes, ready to serve.\n",
    "* For data science recipes, it's the answer to a question, or a set of answers, ready to examine and interpret further.\n",
    "\n",
    "People new to data science need to learn the fundamental data science recipes as it applies to their fields of study, and that is the purpose of this course. By the end of term, you'll be well on your way to customizing the recipes to your data science context — defined by the set of questions you want to answer — and even creating recipes to match new contexts.\n",
    "\n",
    "Many of the examples use this [faithful.csv](faithful.csv) file."
   ]
  },
  {
   "cell_type": "markdown",
   "id": "e0c3841c",
   "metadata": {},
   "source": [
    "# Recipes\n",
    "\n",
    "+ [Read a CSV file](#read_csv)\n",
    "+ [Calculate a statistic about a single column](#calc_column_stat)\n",
    "+ [Subset a `DataFrame` by extracting columns](#subset_by_col)\n",
    "+ [Rename the columns in a `DataFrame`](#rename_columns)\n",
    "+ [Subset a `DataFrame` by filtering rows that have a particular property](#filter_rows)"
   ]
  },
  {
   "cell_type": "markdown",
   "id": "3f7765c3",
   "metadata": {},
   "source": [
    "# Types of ingredients\n",
    "\n",
    "The recipes each examine data and produce data. Here are common datatypes.\n",
    "\n",
    "+ built-in types\n",
    "    - `int`: values are integers\n",
    "    - `float`: values are floating-point numbers, which are approximations to real numbers\n",
    "    - `str`: values are strings of characters, used for sentences and for formatting data for display\n",
    "    - `bool`: values are Boolean, `True` and `False`\n",
    "    - `list`: a list of any values\n",
    "    - `dict` a dictionary, where each key has an associated value\n",
    "+ `pandas` types\n",
    "    - `DataFrame`\n",
    "        * a 2-dimensional table containing data\n",
    "        * The columns have labels\n",
    "        * Columns typically contain one type of information, usually numbers or strings.\n",
    "        * The rows have integer labels by default but can also have other labels.\n",
    "    + `Series`\n",
    "        * a 1-dimensional series of information, usually extracted from a column in a `DataFrame`\n",
    "        * can be used as an argument for a function call to built-in functions like `len` and `max` and `sum`\n",
    "        * Often used as a Boolean mask to filter rows from a `DataFrame`"
   ]
  },
  {
   "cell_type": "markdown",
   "id": "f63c7a70",
   "metadata": {},
   "source": [
    "<a id='read_csv'></a>\n",
    "# Recipe: Read a CSV file\n",
    "\n",
    "## Example use cases\n",
    "\n",
    "* You want to examine a dataset to discover its structure and content.\n",
    "* To prepare for another recipe, you want to examine a dataset to verify that it has the structure and content required by that other recipe.\n",
    "\n",
    "## Ingredients\n",
    "\n",
    "* Data to examine: a CSV file.\n",
    "* Data produced: a `DataFrame`\n",
    "\n",
    "## Instructions\n",
    "\n",
    "1. Upload the CSV file to JupyterHub in the same directory as your notebook.\n",
    "1. Substitute the name of the file in the example code below, and change `faithful_df` to a more appropriate name.\n",
    "1. `read_csv` reads the file and returns a `DataFrame` containing the data. Give a name to the `DataFrame` using an assignment statement so you can use it later.\n",
    "\n",
    "## Example\n",
    "\n",
    "Here is an example for a file named `faithful.csv`:"
   ]
  },
  {
   "cell_type": "code",
   "execution_count": 9,
   "id": "129c445d",
   "metadata": {},
   "outputs": [],
   "source": [
    "import pandas as pd\n",
    "faithful_df = pd.read_csv('faithful.csv')"
   ]
  },
  {
   "cell_type": "markdown",
   "id": "54ebd27d",
   "metadata": {},
   "source": [
    "4. It's usually a good idea to display the first few lines of the `DataFrame` to make sure the data is as you expect."
   ]
  },
  {
   "cell_type": "code",
   "execution_count": 10,
   "id": "f110a7c6",
   "metadata": {
    "scrolled": false
   },
   "outputs": [
    {
     "data": {
      "text/html": [
       "<div>\n",
       "<style scoped>\n",
       "    .dataframe tbody tr th:only-of-type {\n",
       "        vertical-align: middle;\n",
       "    }\n",
       "\n",
       "    .dataframe tbody tr th {\n",
       "        vertical-align: top;\n",
       "    }\n",
       "\n",
       "    .dataframe thead th {\n",
       "        text-align: right;\n",
       "    }\n",
       "</style>\n",
       "<table border=\"1\" class=\"dataframe\">\n",
       "  <thead>\n",
       "    <tr style=\"text-align: right;\">\n",
       "      <th></th>\n",
       "      <th>Index</th>\n",
       "      <th>Eruption length (mins)</th>\n",
       "      <th>Eruption wait (mins)</th>\n",
       "    </tr>\n",
       "  </thead>\n",
       "  <tbody>\n",
       "    <tr>\n",
       "      <th>0</th>\n",
       "      <td>1</td>\n",
       "      <td>3.600</td>\n",
       "      <td>79</td>\n",
       "    </tr>\n",
       "    <tr>\n",
       "      <th>1</th>\n",
       "      <td>2</td>\n",
       "      <td>1.800</td>\n",
       "      <td>54</td>\n",
       "    </tr>\n",
       "    <tr>\n",
       "      <th>2</th>\n",
       "      <td>3</td>\n",
       "      <td>3.333</td>\n",
       "      <td>74</td>\n",
       "    </tr>\n",
       "    <tr>\n",
       "      <th>3</th>\n",
       "      <td>4</td>\n",
       "      <td>2.283</td>\n",
       "      <td>62</td>\n",
       "    </tr>\n",
       "    <tr>\n",
       "      <th>4</th>\n",
       "      <td>5</td>\n",
       "      <td>4.533</td>\n",
       "      <td>85</td>\n",
       "    </tr>\n",
       "  </tbody>\n",
       "</table>\n",
       "</div>"
      ],
      "text/plain": [
       "   Index  Eruption length (mins)  Eruption wait (mins)\n",
       "0      1                   3.600                    79\n",
       "1      2                   1.800                    54\n",
       "2      3                   3.333                    74\n",
       "3      4                   2.283                    62\n",
       "4      5                   4.533                    85"
      ]
     },
     "execution_count": 10,
     "metadata": {},
     "output_type": "execute_result"
    }
   ],
   "source": [
    "faithful_df.head()"
   ]
  },
  {
   "cell_type": "markdown",
   "id": "7f3ccf13",
   "metadata": {},
   "source": [
    "<a id='calc_column_stat'></a>\n",
    "# Recipe: Calculate a statistic about a single column\n",
    "\n",
    "## Example use cases\n",
    "\n",
    "+ You want to know the average of the values in a column so you can compare to another column.\n",
    "\n",
    "## Ingredients\n",
    "\n",
    "+ A `DataFrame` containing the column you are interested in.\n",
    "+ The column label.\n",
    "\n",
    "## Instructions\n",
    "\n",
    "1. Make sure your `DataFrame` looks like you expect, using `head`.\n",
    "1. Make a string for the name of the column.\n",
    "1. Figure out your algorithm for calculating the statistic you want.\n",
    "1. Extract the column from the `DataFrame`. This returns a `Series` containing the values from the column. Give a name to the data using an assignment statement.\n",
    "1. Write your algorithm in Python, applying it to the column.\n",
    "\n",
    "## Example\n",
    "\n",
    "This code calculates the average of the waiting time between eruptions."
   ]
  },
  {
   "cell_type": "code",
   "execution_count": 11,
   "id": "53777241",
   "metadata": {},
   "outputs": [
    {
     "data": {
      "text/plain": [
       "0    79\n",
       "1    54\n",
       "2    74\n",
       "3    62\n",
       "4    85\n",
       "Name: Eruption wait (mins), dtype: int64"
      ]
     },
     "execution_count": 11,
     "metadata": {},
     "output_type": "execute_result"
    }
   ],
   "source": [
    "wait_col = faithful_df['Eruption wait (mins)']\n",
    "wait_col.head()  # Notice how the output doesn't look like a `DataFrame`."
   ]
  },
  {
   "cell_type": "code",
   "execution_count": 12,
   "id": "8f7651a2",
   "metadata": {},
   "outputs": [
    {
     "data": {
      "text/plain": [
       "70.8970588235294"
      ]
     },
     "execution_count": 12,
     "metadata": {},
     "output_type": "execute_result"
    }
   ],
   "source": [
    "# Here's the algorithm.\n",
    "total = sum(wait_col)\n",
    "count = len(wait_col)\n",
    "avg = total / count\n",
    "avg"
   ]
  },
  {
   "cell_type": "markdown",
   "id": "62e3d4e6",
   "metadata": {},
   "source": [
    "<a id='subset_by_col'></a>\n",
    "# Recipe: Subset a `DataFrame` by extracting columns\n",
    "\n",
    "## Example use cases\n",
    "\n",
    "+ There are a lot of irrelevant columns and you want to extract a subset of them.\n",
    "\n",
    "## Ingredients\n",
    "\n",
    "+ A `DataFrame` containing the column you are interested in.\n",
    "+ The column labels for the columns you want to keep.\n",
    "\n",
    "## Instructions\n",
    "\n",
    "1. Make sure your `DataFrame` looks like you expect, using `head`.\n",
    "1. Make a list of strings for the names of the columns you want to keep.\n",
    "1. Extract the columns from the `DataFrame`. This returns a `DataFrame`. Give a name to the data using an assignment statement.\n",
    "\n",
    "## Example"
   ]
  },
  {
   "cell_type": "code",
   "execution_count": 5,
   "id": "edaca55d",
   "metadata": {},
   "outputs": [
    {
     "data": {
      "text/html": [
       "<div>\n",
       "<style scoped>\n",
       "    .dataframe tbody tr th:only-of-type {\n",
       "        vertical-align: middle;\n",
       "    }\n",
       "\n",
       "    .dataframe tbody tr th {\n",
       "        vertical-align: top;\n",
       "    }\n",
       "\n",
       "    .dataframe thead th {\n",
       "        text-align: right;\n",
       "    }\n",
       "</style>\n",
       "<table border=\"1\" class=\"dataframe\">\n",
       "  <thead>\n",
       "    <tr style=\"text-align: right;\">\n",
       "      <th></th>\n",
       "      <th>Index</th>\n",
       "      <th>Eruption wait (mins)</th>\n",
       "    </tr>\n",
       "  </thead>\n",
       "  <tbody>\n",
       "    <tr>\n",
       "      <th>0</th>\n",
       "      <td>1</td>\n",
       "      <td>79</td>\n",
       "    </tr>\n",
       "    <tr>\n",
       "      <th>1</th>\n",
       "      <td>2</td>\n",
       "      <td>54</td>\n",
       "    </tr>\n",
       "    <tr>\n",
       "      <th>2</th>\n",
       "      <td>3</td>\n",
       "      <td>74</td>\n",
       "    </tr>\n",
       "    <tr>\n",
       "      <th>3</th>\n",
       "      <td>4</td>\n",
       "      <td>62</td>\n",
       "    </tr>\n",
       "    <tr>\n",
       "      <th>4</th>\n",
       "      <td>5</td>\n",
       "      <td>85</td>\n",
       "    </tr>\n",
       "  </tbody>\n",
       "</table>\n",
       "</div>"
      ],
      "text/plain": [
       "   Index  Eruption wait (mins)\n",
       "0      1                    79\n",
       "1      2                    54\n",
       "2      3                    74\n",
       "3      4                    62\n",
       "4      5                    85"
      ]
     },
     "execution_count": 5,
     "metadata": {},
     "output_type": "execute_result"
    }
   ],
   "source": [
    "faithful_columns = ['Index', 'Eruption wait (mins)']\n",
    "wait_col = faithful_df[faithful_columns]\n",
    "wait_col.head()"
   ]
  },
  {
   "cell_type": "markdown",
   "id": "ca8052e3",
   "metadata": {},
   "source": [
    "<a id='rename_columns'></a>\n",
    "# Recipe: Rename the columns in a `DataFrame`\n",
    "\n",
    "## Example use cases\n",
    "\n",
    "+ The names are not easy to interpret\n",
    "+ The names are too long\n",
    "\n",
    "## Ingredients\n",
    "\n",
    "+ A `DataFrame` containing the column you are interested in.\n",
    "+ The new column labels you want\n",
    "\n",
    "## Instructions\n",
    "\n",
    "1. Make sure your `DataFrame` looks like you expect, using `head`.\n",
    "1. Make a dictionary mapping old column names to new column names.\n",
    "1. Use the `rename` function to rename the columns in the `DataFrame`.\n",
    "\n",
    "## Example"
   ]
  },
  {
   "cell_type": "code",
   "execution_count": 6,
   "id": "41fd1c17",
   "metadata": {},
   "outputs": [
    {
     "data": {
      "text/html": [
       "<div>\n",
       "<style scoped>\n",
       "    .dataframe tbody tr th:only-of-type {\n",
       "        vertical-align: middle;\n",
       "    }\n",
       "\n",
       "    .dataframe tbody tr th {\n",
       "        vertical-align: top;\n",
       "    }\n",
       "\n",
       "    .dataframe thead th {\n",
       "        text-align: right;\n",
       "    }\n",
       "</style>\n",
       "<table border=\"1\" class=\"dataframe\">\n",
       "  <thead>\n",
       "    <tr style=\"text-align: right;\">\n",
       "      <th></th>\n",
       "      <th>Index</th>\n",
       "      <th>Eruption length (mins)</th>\n",
       "      <th>Wait time (mins)</th>\n",
       "    </tr>\n",
       "  </thead>\n",
       "  <tbody>\n",
       "    <tr>\n",
       "      <th>0</th>\n",
       "      <td>1</td>\n",
       "      <td>3.600</td>\n",
       "      <td>79</td>\n",
       "    </tr>\n",
       "    <tr>\n",
       "      <th>1</th>\n",
       "      <td>2</td>\n",
       "      <td>1.800</td>\n",
       "      <td>54</td>\n",
       "    </tr>\n",
       "    <tr>\n",
       "      <th>2</th>\n",
       "      <td>3</td>\n",
       "      <td>3.333</td>\n",
       "      <td>74</td>\n",
       "    </tr>\n",
       "    <tr>\n",
       "      <th>3</th>\n",
       "      <td>4</td>\n",
       "      <td>2.283</td>\n",
       "      <td>62</td>\n",
       "    </tr>\n",
       "    <tr>\n",
       "      <th>4</th>\n",
       "      <td>5</td>\n",
       "      <td>4.533</td>\n",
       "      <td>85</td>\n",
       "    </tr>\n",
       "  </tbody>\n",
       "</table>\n",
       "</div>"
      ],
      "text/plain": [
       "   Index  Eruption length (mins)  Wait time (mins)\n",
       "0      1                   3.600                79\n",
       "1      2                   1.800                54\n",
       "2      3                   3.333                74\n",
       "3      4                   2.283                62\n",
       "4      5                   4.533                85"
      ]
     },
     "execution_count": 6,
     "metadata": {},
     "output_type": "execute_result"
    }
   ],
   "source": [
    "column_names = {\n",
    "    # Notice we're only listing the name we want to change.\n",
    "    'Eruption wait (mins)' : 'Wait time (mins)'\n",
    "}\n",
    "\n",
    "faithful_renamed_df = faithful_df.rename(columns=column_names)\n",
    "faithful_renamed_df.head()"
   ]
  },
  {
   "cell_type": "markdown",
   "id": "f3477009",
   "metadata": {},
   "source": [
    "<a id='filter_rows'></a>\n",
    "# Recipe: Subset a `DataFrame` by filtering rows\n",
    "\n",
    "## Example use cases\n",
    "\n",
    "+ You want to find rows where a column has a particular value.\n",
    "\n",
    "## Ingredients\n",
    "\n",
    "+ A `DataFrame`.\n",
    "+ The column label you are interested in.\n",
    "\n",
    "## Instructions\n",
    "\n",
    "1. Make sure your `DataFrame` looks like you expect it to.\n",
    "1. Figure out which column you want to look at.\n",
    "1. Extract your column as a `Series` and give it a name.\n",
    "1. Write a Boolean expression comparing your column to the values you want. This produces a new `Series` where all the entries are `True` or `False`, based on your comparison. Give it a name.\n",
    "1. Use your Boolean `Series` as a \"mask\" to filter rows from the `DataFrame`. You can, at this time, also extract a subset of the columns by providing a range of column labels.\n",
    "\n",
    "## Example\n",
    "\n",
    "This extracts rows where the eruption length was greater than 4 seconds."
   ]
  },
  {
   "cell_type": "code",
   "execution_count": 7,
   "id": "cc656a83",
   "metadata": {},
   "outputs": [
    {
     "data": {
      "text/html": [
       "<div>\n",
       "<style scoped>\n",
       "    .dataframe tbody tr th:only-of-type {\n",
       "        vertical-align: middle;\n",
       "    }\n",
       "\n",
       "    .dataframe tbody tr th {\n",
       "        vertical-align: top;\n",
       "    }\n",
       "\n",
       "    .dataframe thead th {\n",
       "        text-align: right;\n",
       "    }\n",
       "</style>\n",
       "<table border=\"1\" class=\"dataframe\">\n",
       "  <thead>\n",
       "    <tr style=\"text-align: right;\">\n",
       "      <th></th>\n",
       "      <th>Index</th>\n",
       "      <th>Eruption length (mins)</th>\n",
       "    </tr>\n",
       "  </thead>\n",
       "  <tbody>\n",
       "    <tr>\n",
       "      <th>4</th>\n",
       "      <td>5</td>\n",
       "      <td>4.533</td>\n",
       "    </tr>\n",
       "    <tr>\n",
       "      <th>6</th>\n",
       "      <td>7</td>\n",
       "      <td>4.700</td>\n",
       "    </tr>\n",
       "    <tr>\n",
       "      <th>9</th>\n",
       "      <td>10</td>\n",
       "      <td>4.350</td>\n",
       "    </tr>\n",
       "    <tr>\n",
       "      <th>12</th>\n",
       "      <td>13</td>\n",
       "      <td>4.200</td>\n",
       "    </tr>\n",
       "    <tr>\n",
       "      <th>14</th>\n",
       "      <td>15</td>\n",
       "      <td>4.700</td>\n",
       "    </tr>\n",
       "  </tbody>\n",
       "</table>\n",
       "</div>"
      ],
      "text/plain": [
       "    Index  Eruption length (mins)\n",
       "4       5                   4.533\n",
       "6       7                   4.700\n",
       "9      10                   4.350\n",
       "12     13                   4.200\n",
       "14     15                   4.700"
      ]
     },
     "execution_count": 7,
     "metadata": {},
     "output_type": "execute_result"
    }
   ],
   "source": [
    "eruption_length_col = faithful_df['Eruption length (mins)']\n",
    "long_eruptions = eruption_length_col > 4.0\n",
    "faithful_long_df = faithful_df.loc[long_eruptions, 'Index': 'Eruption length (mins)']\n",
    "faithful_long_df.head()"
   ]
  }
 ],
 "metadata": {
  "kernelspec": {
   "display_name": "Python 3 (ipykernel)",
   "language": "python",
   "name": "python3"
  },
  "language_info": {
   "codemirror_mode": {
    "name": "ipython",
    "version": 3
   },
   "file_extension": ".py",
   "mimetype": "text/x-python",
   "name": "python",
   "nbconvert_exporter": "python",
   "pygments_lexer": "ipython3",
   "version": "3.9.9"
  }
 },
 "nbformat": 4,
 "nbformat_minor": 5
}
